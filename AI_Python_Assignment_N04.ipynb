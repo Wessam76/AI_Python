{
 "cells": [
  {
   "cell_type": "markdown",
   "id": "e042191d",
   "metadata": {},
   "source": [
    "# Machine Learning Diploma\n",
    "## Python\n",
    "### Assignment 4: Calculator\n",
    "\n",
    "Calculator Functionalities:\n",
    "1- Arithmetic Calculations: Add, Subtract, Division, Multiply\n",
    "2- Factorial\n",
    "3- Fibonacci\n",
    "\n",
    "Assumption: \n",
    "    - Simple Calculator, No Parentheses \n",
    "    - one calculation per run\n",
    "    - all numbers will be float\n"
   ]
  },
  {
   "cell_type": "code",
   "execution_count": 26,
   "id": "208c9bd8",
   "metadata": {},
   "outputs": [],
   "source": [
    "# operations Functions\n",
    "def Addition(firstNumber,secondNumber):\n",
    "    return firstNumber + secondNumber\n",
    "def Subtraction(firstNumber,secondNumber):\n",
    "    return firstNumber - secondNumber\n",
    "def Multiplication(firstNumber,secondNumber):\n",
    "    return firstNumber * secondNumber\n",
    "def Division(firstNumber,secondNumber):\n",
    "    if(secondNumber !=0):\n",
    "        return firstNumber / secondNumber\n",
    "    else:\n",
    "        print(\"ERROR! division by zero is not applicable\")\n",
    "def Factorial(number):\n",
    "    if(number ==1):\n",
    "        return 1\n",
    "    else:\n",
    "        return number * Factorial(number-1)\n",
    "def Fibonacci(termsCount):\n",
    "    lstFibonacciSeries = []\n",
    "    intFirstTerm = 0\n",
    "    intSecondTerm = 1\n",
    "    intNextTerm = 0\n",
    "    for i in range(1,termsCount+1):\n",
    "        if(i==1):     \n",
    "            lstFibonacciSeries.append(intFirstTerm)\n",
    "            continue\n",
    "        elif(i==2):\n",
    "            lstFibonacciSeries.append(intSecondTerm)\n",
    "            continue\n",
    "        intNextTerm = intFirstTerm + intSecondTerm\n",
    "        intFirstTerm = intSecondTerm\n",
    "        intSecondTerm = intNextTerm\n",
    "        lstFibonacciSeries.append(intNextTerm)\n",
    "    return lstFibonacciSeries\n",
    "    \n",
    "    \n",
    "    "
   ]
  },
  {
   "cell_type": "code",
   "execution_count": 28,
   "id": "adfc2273",
   "metadata": {},
   "outputs": [
    {
     "name": "stdout",
     "output_type": "stream",
     "text": [
      "Basic Calculator\n",
      "================\n",
      "\n",
      "Calculator Oprators\n",
      "-------------------\n",
      "1- Addition\n",
      "2- Subtraction\n",
      "3- Multiplication\n",
      "4- Divition\n",
      "5- Factorial\n",
      "6- Fibonancci\n",
      "\n",
      "Select Operator: 6\n",
      "Enter Number of Series Terms: 10\n",
      "The reult is : [0, 1, 1, 2, 3, 5, 8, 13, 21, 34]\n"
     ]
    }
   ],
   "source": [
    "# Main Code\n",
    "intSelectedOperator = 0\n",
    "print(\"Basic Calculator\")\n",
    "print(\"================\")\n",
    "print(\"\")\n",
    "print(\"Calculator Oprators\")\n",
    "print(\"-------------------\")\n",
    "print(\"1- Addition\")\n",
    "print(\"2- Subtraction\")\n",
    "print(\"3- Multiplication\")\n",
    "print(\"4- Divition\")\n",
    "print(\"5- Factorial\")\n",
    "print(\"6- Fibonancci\")\n",
    "print(\"\")\n",
    "intSelectedOperator = int(input(\"Select Operator: \"))\n",
    "if intSelectedOperator in range(1,5):\n",
    "    fltFirstNumber = float(input(\"Enter the first number: \"))\n",
    "    fltSecondNumber = float(input(\"Enter the second number: \"))\n",
    "elif intSelectedOperator == 5:\n",
    "    fltNumber = float(input(\"Enter number: \"))\n",
    "elif intSelectedOperator == 6:\n",
    "    lstTermsCount = int(input(\"Enter Number of Series Terms: \"))\n",
    "if intSelectedOperator == 1:\n",
    "    print(f\"The result is : {Addition(fltFirstNumber,fltSecondNumber)}\")\n",
    "elif intSelectedOperator == 2:\n",
    "    print(f\"The result is : {Subtraction(fltFirstNumber,fltSecondNumber)}\")    \n",
    "elif intSelectedOperator == 3:\n",
    "    print(f\"The result is : {Multiplication(fltFirstNumber,fltSecondNumber)}\")\n",
    "elif intSelectedOperator == 4:\n",
    "    print(f\"The result is : {Division(fltFirstNumber,fltSecondNumber)}\")\n",
    "elif intSelectedOperator == 5:\n",
    "    print(f\"The result is : {Factorial(fltNumber)}\")\n",
    "elif intSelectedOperator == 6:\n",
    "    print(f\"The reult is : {Fibonacci(lstTermsCount)}\")\n"
   ]
  }
 ],
 "metadata": {
  "kernelspec": {
   "display_name": "Python 3 (ipykernel)",
   "language": "python",
   "name": "python3"
  },
  "language_info": {
   "codemirror_mode": {
    "name": "ipython",
    "version": 3
   },
   "file_extension": ".py",
   "mimetype": "text/x-python",
   "name": "python",
   "nbconvert_exporter": "python",
   "pygments_lexer": "ipython3",
   "version": "3.10.9"
  }
 },
 "nbformat": 4,
 "nbformat_minor": 5
}
