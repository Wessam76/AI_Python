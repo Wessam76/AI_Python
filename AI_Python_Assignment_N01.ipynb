{
 "cells": [
  {
   "attachments": {
    "image.png": {
     "image/png": "[encoded data removed]"
    }
   },
   "cell_type": "markdown",
   "id": "ea58040c",
   "metadata": {},
   "source": [
    "# Master AI Diploma\n",
    "\n",
    "## Python\n",
    "\n",
    "### Assignment No. 1\n",
    "\n",
    "Gravitational force is the attractive force that exists between twomasses.\n",
    "It can be calculated by using the following formula:\n",
    "![image.png](attachment:image.png)\n",
    ", where\n",
    "\n",
    "F = Gravitational force (N)\n",
    "\n",
    "G = Gravitational constant = 6.67 * 10e-11 (N m2/kg2)\n",
    "\n",
    "M = First object mass (kg)\n",
    "\n",
    "m = Second object mass (kg)\n",
    "\n",
    "r = Distance between centers of the mass (m)\n",
    "\n",
    "\n",
    "Write a code that accepts these constants as input and produces this"
   ]
  },
  {
   "cell_type": "code",
   "execution_count": 44,
   "id": "da708cd0",
   "metadata": {
    "scrolled": false
   },
   "outputs": [
    {
     "name": "stdout",
     "output_type": "stream",
     "text": [
      "Please enter first object mass (Kg) :6e24\n",
      "Please enter second object mass (Kg) :7.34e22\n",
      "Please enter the distance between objects center (meters): 3.84e8\n"
     ]
    }
   ],
   "source": [
    "# Get the Equation inputs from the user as float values\n",
    "M = float(input(\"Please enter first object mass (Kg) :\"))\n",
    "m = float(input(\"Please enter second object mass (Kg) :\"))\n",
    "r = float(input(\"Please enter the distance between objects center (meters): \"))"
   ]
  },
  {
   "cell_type": "code",
   "execution_count": 45,
   "id": "9822e87b",
   "metadata": {},
   "outputs": [
    {
     "name": "stdout",
     "output_type": "stream",
     "text": [
      "The gravitational force = 1.99e+20 N m2/kg2\n"
     ]
    }
   ],
   "source": [
    "# calculate the gravitational force\n",
    "# where the gravitational Force G=6.67e-11\n",
    "G = 6.67e-11\n",
    "F = G * M * m / r ** 2\n",
    "print (f\"The gravitational force = {F:.2e} N m2/kg2\")"
   ]
  }
 ],
 "metadata": {
  "kernelspec": {
   "display_name": "Python 3 (ipykernel)",
   "language": "python",
   "name": "python3"
  },
  "language_info": {
   "codemirror_mode": {
    "name": "ipython",
    "version": 3
   },
   "file_extension": ".py",
   "mimetype": "text/x-python",
   "name": "python",
   "nbconvert_exporter": "python",
   "pygments_lexer": "ipython3",
   "version": "3.10.9"
  }
 },
 "nbformat": 4,
 "nbformat_minor": 5
}
