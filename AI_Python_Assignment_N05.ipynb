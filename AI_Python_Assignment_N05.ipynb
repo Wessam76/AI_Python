{
 "cells": [
  {
   "cell_type": "markdown",
   "id": "7560fe33",
   "metadata": {},
   "source": [
    "# Machine Learning Diploma\n",
    "## Python\n",
    "### Session 4: Assignments 2"
   ]
  },
  {
   "cell_type": "markdown",
   "id": "676fd5f9",
   "metadata": {},
   "source": [
    "### 1. Write a Python program to add an item to a tuple.\n"
   ]
  },
  {
   "cell_type": "code",
   "execution_count": 17,
   "id": "fbe51fc7",
   "metadata": {},
   "outputs": [
    {
     "name": "stdout",
     "output_type": "stream",
     "text": [
      "Enter element position: 5\n",
      "Eneter element value: 5\n",
      "Index out of range!\n"
     ]
    }
   ],
   "source": [
    "# the input tupple , assumed tuple with integer values\n",
    "tpl = (2,4,6)\n",
    "    \n",
    "# get index and element values\n",
    "def get_item():\n",
    " \n",
    "    global tpl\n",
    "    \n",
    "    try:        \n",
    "        index = int(input(\"Enter element position: \"))        \n",
    "        \n",
    "        element = int(input(\"Eneter element value: \"))   \n",
    "    except:\n",
    "        print(\"ERROR: Enter valid integer!\")\n",
    "    finally: \n",
    "        assert index>0 and index < tpl.__len__(), \"ERROR: Index out of range\"\n",
    "        return index, element\n",
    "\n",
    "# Insert an item into tuple\n",
    "def add_element_tuble(index, element):\n",
    "    \n",
    "    global tpl\n",
    "    \n",
    "    # convert the tuple to list    \n",
    "    lst = list(tpl)\n",
    "    try:\n",
    "        lst.insert(index, element)\n",
    "        \n",
    "    except: \n",
    "        print('index is out of range')\n",
    "    finally:        \n",
    "        return tuple(lst)\n",
    "\n",
    "# run the program\n",
    "def run():\n",
    "        \n",
    "    #get item from the user\n",
    "    try:        \n",
    "        index, element = get_item()\n",
    "        tpl = add_element_tuble(index,element)\n",
    "        print (f\"the new tuple is: {tpl}\")\n",
    "    except:\n",
    "        print(\"Index out of range!\")\n",
    "        \n",
    "    \n",
    "# run the program\n",
    "run()"
   ]
  },
  {
   "cell_type": "code",
   "execution_count": 15,
   "id": "84ee3a60",
   "metadata": {},
   "outputs": [
    {
     "data": {
      "text/plain": [
       "3"
      ]
     },
     "execution_count": 15,
     "metadata": {},
     "output_type": "execute_result"
    }
   ],
   "source": [
    "tpl = (2,4,6)\n",
    "#help(tuple)\n",
    "tpl.__len__()"
   ]
  },
  {
   "cell_type": "code",
   "execution_count": 18,
   "id": "251dd152",
   "metadata": {},
   "outputs": [
    {
     "name": "stdout",
     "output_type": "stream",
     "text": [
      "5 6\n"
     ]
    }
   ],
   "source": [
    "def test():\n",
    "    x = 5\n",
    "    y = 6\n",
    "    return x, y\n",
    "x, y = test()\n",
    "print(x, y)"
   ]
  },
  {
   "cell_type": "markdown",
   "id": "8d6415e7",
   "metadata": {},
   "source": [
    "### 2. Write a Python program to sum all the items in a list."
   ]
  },
  {
   "cell_type": "code",
   "execution_count": 20,
   "id": "e0181416",
   "metadata": {},
   "outputs": [
    {
     "name": "stdout",
     "output_type": "stream",
     "text": [
      "The sum of all items in the list is: 60\n"
     ]
    }
   ],
   "source": [
    "# Input list\n",
    "vector = [4,3,6,7,8,9,10,5,8]\n",
    "\n",
    "# Summation variable\n",
    "summation = 0\n",
    "\n",
    "# Calculate the sum\n",
    "for x in vector:\n",
    "    summation = summation + x\n",
    "\n",
    "# print the result\n",
    "print(f\"The sum of all items in the list is: {summation}\")"
   ]
  },
  {
   "cell_type": "markdown",
   "id": "b302c4ea",
   "metadata": {},
   "source": [
    "### 3. Write a Python program to multiply all the items in a list."
   ]
  },
  {
   "cell_type": "code",
   "execution_count": 23,
   "id": "396280ba",
   "metadata": {},
   "outputs": [
    {
     "name": "stdout",
     "output_type": "stream",
     "text": [
      "The multiplication of all items in the list is: 14515200\n"
     ]
    }
   ],
   "source": [
    "# Input list\n",
    "vector = [4,3,6,7,8,9,10,5,8]\n",
    "\n",
    "# Multiplication variable\n",
    "multiply = 1\n",
    "\n",
    "# Calculate the multiplication\n",
    "for x in vector:\n",
    "    multiply = multiply * x\n",
    "\n",
    "# print the result\n",
    "print(f\"The multiplication of all items in the list is: {multiply}\")"
   ]
  },
  {
   "cell_type": "markdown",
   "id": "fe0471ae",
   "metadata": {},
   "source": [
    "### 4. Write a Python program to get the smallest number from a list"
   ]
  },
  {
   "cell_type": "code",
   "execution_count": 24,
   "id": "d8194e6c",
   "metadata": {},
   "outputs": [
    {
     "name": "stdout",
     "output_type": "stream",
     "text": [
      "The smallest number from the list is: 3\n"
     ]
    }
   ],
   "source": [
    "# Input list\n",
    "vector = [4,3,6,7,8,9,10,5,8]\n",
    "\n",
    "# Smallest number variable\n",
    "smallest = vector[0]\n",
    "\n",
    "# Calculate the smallest\n",
    "for x in vector:\n",
    "    if(smallest > x):\n",
    "        smallest = x\n",
    "        \n",
    "# print the result\n",
    "print(f\"The smallest number from the list is: {smallest}\")"
   ]
  },
  {
   "cell_type": "markdown",
   "id": "4a56d676",
   "metadata": {},
   "source": [
    "### 5. Write a Python program to get the largest number from a list.\n"
   ]
  },
  {
   "cell_type": "code",
   "execution_count": 25,
   "id": "dd5dce16",
   "metadata": {},
   "outputs": [
    {
     "name": "stdout",
     "output_type": "stream",
     "text": [
      "The largest number from the list is: 10\n"
     ]
    }
   ],
   "source": [
    "# Input list\n",
    "vector = [4,3,6,7,8,9,10,5,8]\n",
    "\n",
    "# Largest number variable\n",
    "largest = vector[0]\n",
    "\n",
    "# Calculate the largest\n",
    "for x in vector:\n",
    "    if(largest < x):\n",
    "        largest = x\n",
    "        \n",
    "# print the result\n",
    "print(f\"The largest number from the list is: {largest}\")"
   ]
  },
  {
   "cell_type": "markdown",
   "id": "a79884cc",
   "metadata": {},
   "source": [
    "### 6. Write a Python program to count the number of strings from a given list of strings."
   ]
  },
  {
   "cell_type": "code",
   "execution_count": 41,
   "id": "2dcd1b3a",
   "metadata": {},
   "outputs": [
    {
     "name": "stdout",
     "output_type": "stream",
     "text": [
      "the number of strings is: 3\n",
      "the number of strings - using built in function - is: 3\n"
     ]
    }
   ],
   "source": [
    "  # Input list\n",
    "strList = [\"Ahmed\",\"Ayman\",\"Amgad\"]\n",
    "\n",
    "# string counter variable\n",
    "counter = 0\n",
    "\n",
    "# Calculate the largest\n",
    "for x in strList:\n",
    "    if type(x) == type(\"\"):\n",
    "        counter += 1\n",
    "        \n",
    "# print the result\n",
    "print (f\"the number of strings is: {counter}\")\n",
    "\n",
    "# get the number of strings in a list\n",
    "print (f\"the number of strings - using built in function - is: {strList.__len__()}\")\n"
   ]
  },
  {
   "cell_type": "markdown",
   "id": "aeb42e90",
   "metadata": {},
   "source": [
    "### 7. Write a Python program to clone or copy a list"
   ]
  },
  {
   "cell_type": "code",
   "execution_count": 50,
   "id": "746f2cb7",
   "metadata": {},
   "outputs": [
    {
     "name": "stdout",
     "output_type": "stream",
     "text": [
      "True\n",
      "\n",
      "the new list is : [4, 3, 6, 7, 8, 8, 9, 10, 5]\n",
      "\n",
      "check list1 and list2 memory address: False\n"
     ]
    }
   ],
   "source": [
    "# Input list\n",
    "list1 = [4,3,6,7,8,9,10,5,8]\n",
    "# New List\n",
    "list2=[]\n",
    "\n",
    "# ensure that assigning list1 to list2 has the same memory address\n",
    "list2 = list1\n",
    "print(id(list1) == id(list2))\n",
    "list2 = []\n",
    "\n",
    "# Cloning list 1\n",
    "for x in list1:\n",
    "    list2.insert(list1.index(x), x)\n",
    "\n",
    "# print the new list\n",
    "print(f\"\\nthe new list is : {list2}\")\n",
    "print(f\"\\ncheck list1 and list2 memory address: {id(list1) == id(list2)}\")"
   ]
  },
  {
   "cell_type": "markdown",
   "id": "0f2fb6c9",
   "metadata": {},
   "source": [
    "### 8. Write a Python program to remove item(s) from a given set."
   ]
  },
  {
   "cell_type": "code",
   "execution_count": 57,
   "id": "1f6408b7",
   "metadata": {},
   "outputs": [
    {
     "name": "stdout",
     "output_type": "stream",
     "text": [
      "{4, 5, 6, 7, 10}\n"
     ]
    }
   ],
   "source": [
    "# Input set\n",
    "set1 = {4,3,6,7,8,9,10,5,8}\n",
    "\n",
    "# items to be removed\n",
    "rem = [3,9,8,20]\n",
    "\n",
    "# removing itesm\n",
    "for x in rem:\n",
    "    if(x in set1):\n",
    "        set1.remove(x)\n",
    "\n",
    "# print the final set\n",
    "print(set1)\n"
   ]
  },
  {
   "cell_type": "markdown",
   "id": "b16aa47d",
   "metadata": {},
   "source": [
    "### 9. Write a Python program to check if a set is a subset of another set."
   ]
  },
  {
   "cell_type": "code",
   "execution_count": 95,
   "id": "a89aa832",
   "metadata": {},
   "outputs": [
    {
     "name": "stdout",
     "output_type": "stream",
     "text": [
      "Check subset condition using built in functions\n",
      "===============================================\n",
      "is set2 subset of set1: True\n",
      "is set3 subset of set1: False\n",
      "\n",
      "\n",
      "Check subset condition without using built in functions\n",
      "=======================================================\n",
      "is set2 subset of set1: True\n",
      "is set3 subset of set1: False\n"
     ]
    }
   ],
   "source": [
    "# input sets\n",
    "set1 = {4,3,6,7,8,9,10,5,8}\n",
    "set2 = {3,9,5}\n",
    "set3 = {4,15,7}\n",
    "\n",
    "# check functions using built in functions\n",
    "def isSubsetBuitIn(set1,set2):\n",
    "    blnSubsetCondition = True\n",
    "    \n",
    "    if set2.issubset(set1):\n",
    "        blnSubsetCondition =  True\n",
    "    else:\n",
    "        blnSubsetCondition = False\n",
    "    \n",
    "    return blnSubsetCondition\n",
    "\n",
    "# check functions\n",
    "def isSubset(set1,set2):\n",
    "    blnSubsetCondition = True\n",
    "    \n",
    "    for x in set2:        \n",
    "        if((x in set1) == False):            \n",
    "            blnSubsetCondition = False\n",
    "            break\n",
    "    \n",
    "    return blnSubsetCondition\n",
    "            \n",
    "\n",
    "def run():\n",
    "    print(\"Check subset condition using built in functions\")\n",
    "    print(\"===============================================\")\n",
    "    print(f\"is set2 subset of set1: {isSubsetBuitIn(set1,set2)}\")\n",
    "    print(f\"is set3 subset of set1: {isSubsetBuitIn(set1,set3)}\")\n",
    "    print(\"\\n\")\n",
    "    print(\"Check subset condition without using built in functions\")\n",
    "    print(\"=======================================================\")\n",
    "    print(f\"is set2 subset of set1: {isSubset(set1,set2)}\")\n",
    "    print(f\"is set3 subset of set1: {isSubset(set1,set3)}\")\n",
    "\n",
    "# run the programm\n",
    "run()"
   ]
  },
  {
   "cell_type": "markdown",
   "id": "79222086",
   "metadata": {},
   "source": [
    "### 10. Write a Python program to remove all elements from a given set.\n"
   ]
  },
  {
   "cell_type": "code",
   "execution_count": 104,
   "id": "f153d5cf",
   "metadata": {},
   "outputs": [
    {
     "name": "stdout",
     "output_type": "stream",
     "text": [
      "Clear set using built in functions\n",
      "==================================\n",
      "set1 : set()\n",
      "\n",
      "\n",
      "Clear set without using built in functions\n",
      "==========================================\n",
      "set2 : set()\n"
     ]
    }
   ],
   "source": [
    "# input sets\n",
    "set1 = {4,3,6,7,8,9,10,5,8}\n",
    "set2 = {4,3,6,7,8,9,10,5,8}\n",
    "\n",
    "# Remove all elememts functions using built in functions\n",
    "def ClearSetBuiltIn(set1):\n",
    "    set1.clear()\n",
    "\n",
    "# Remove all elements functions\n",
    "def ClearSet(set1):    \n",
    "    loopCondition = set1.__len__()\n",
    "    while (loopCondition > 0):        \n",
    "        set1.pop()\n",
    "        loopCondition -= 1\n",
    "\n",
    "def run():\n",
    "    print(\"Clear set using built in functions\")\n",
    "    print(\"==================================\")\n",
    "    ClearSetBuiltIn(set1)\n",
    "    print(f\"set1 : {set1}\")\n",
    "    print(\"\\n\")\n",
    "    print(\"Clear set without using built in functions\")\n",
    "    print(\"==========================================\")\n",
    "    ClearSet(set2)\n",
    "    print(f\"set2 : {set2}\")\n",
    "\n",
    "# run the programm\n",
    "run()"
   ]
  },
  {
   "cell_type": "markdown",
   "id": "efe8581e",
   "metadata": {},
   "source": [
    "### 11. Write a Python program to find the maximum and minimum values in a set."
   ]
  },
  {
   "cell_type": "code",
   "execution_count": 110,
   "id": "65fd612e",
   "metadata": {},
   "outputs": [
    {
     "name": "stdout",
     "output_type": "stream",
     "text": [
      "- The maximum value is: 10 \n",
      "- The minimum value is: 3\n"
     ]
    }
   ],
   "source": [
    "# Input set\n",
    "set1 = {4,3,6,7,8,9,10,5,8}\n",
    "\n",
    "def getMaximumValue(set1):\n",
    "    # convert set to list\n",
    "    vector = list(set1)\n",
    "      \n",
    "    # Largest number variable\n",
    "    largest = vector[0]\n",
    "\n",
    "    # Calculate the largest\n",
    "    for x in vector:\n",
    "        if(largest < x):\n",
    "            largest = x\n",
    "    \n",
    "    return largest\n",
    "\n",
    "def getMinimumValue(set1):\n",
    "    # convert set to list\n",
    "    vector = list(set1)\n",
    "    \n",
    "    # minimum number variable \n",
    "    smallest = vector[0]\n",
    "\n",
    "    # get the minimum\n",
    "    for x in vector:\n",
    "        if(smallest > x):\n",
    "            smallest = x\n",
    "    \n",
    "    return smallest\n",
    "\n",
    "       \n",
    "# print the result\n",
    "print(f\"- The maximum value is: {getMaximumValue(set1)} \\n- The minimum value is: {getMinimumValue(set1)}\")"
   ]
  },
  {
   "cell_type": "markdown",
   "id": "8f54f819",
   "metadata": {},
   "source": [
    "### 12. Write a Python program to find the index of an item in a tuple."
   ]
  },
  {
   "cell_type": "code",
   "execution_count": 181,
   "id": "0a76b0bf",
   "metadata": {},
   "outputs": [
    {
     "name": "stdout",
     "output_type": "stream",
     "text": [
      "the item does not belont to the tuple\n"
     ]
    }
   ],
   "source": [
    "# input tuple \n",
    "tpl = ([5,6,8], 8 , \"Wessam\" , 6.8)\n",
    "\n",
    "def IndexOfItem(tuple1, item):\n",
    "    itemIndex = -1\n",
    "    for i in range(0,len(tuple1)):\n",
    "        if item == tuple1[i]:\n",
    "            itemIndex = i\n",
    "            break\n",
    "    \n",
    "    return itemIndex\n",
    "\n",
    "def run():    \n",
    "    #item = [5,6,8]\n",
    "    item = 9\n",
    "\n",
    "    index = IndexOfItem(tpl, item)\n",
    "\n",
    "    if index == -1:\n",
    "        print(\"the item does not belont to the tuple\")\n",
    "    else:\n",
    "        print(f\"the item index is: {index}\")\n",
    "\n",
    "run()"
   ]
  },
  {
   "cell_type": "markdown",
   "id": "db07e20c",
   "metadata": {},
   "source": [
    "### 13. Write a Python program to convert a tuple to a dictionary."
   ]
  },
  {
   "cell_type": "code",
   "execution_count": 180,
   "id": "268b54c5",
   "metadata": {},
   "outputs": [
    {
     "name": "stdout",
     "output_type": "stream",
     "text": [
      "{0: [5, 6, 8], 1: 8, 2: 'Wessam', 3: 6.8}\n"
     ]
    }
   ],
   "source": [
    "# input tuple \n",
    "tpl = ([5,6,8], 8 , \"Wessam\" , 6.8)\n",
    "\n",
    "# conversion code\n",
    "d = {}\n",
    "for x in range(0,len(tpl)):\n",
    "    d[x] = tpl[x]\n",
    "\n",
    "# print result\n",
    "print (d)\n",
    "    \n"
   ]
  },
  {
   "cell_type": "markdown",
   "id": "8b5135af",
   "metadata": {},
   "source": [
    "### 14. Write a Python program to unzip a list of tuples into individual lists."
   ]
  },
  {
   "cell_type": "code",
   "execution_count": 147,
   "id": "f898337a",
   "metadata": {},
   "outputs": [
    {
     "name": "stdout",
     "output_type": "stream",
     "text": [
      " The first list is: [5, 6, 7]\n",
      " The second list is: ['a', 'b', 'c']\n",
      " The third list is: ['k', 6, 7]\n"
     ]
    }
   ],
   "source": [
    "# input list of tuples\n",
    "list1 = [(5,6,7),(\"a\",'b','c'),('k',6,7)]\n",
    "\n",
    "# unzipped lists\n",
    "list2 = list(list1[0])\n",
    "list3 = list(list1[1])\n",
    "list4 = list(list1[2])\n",
    "\n",
    "print (f\" The first list is: {list2}\")\n",
    "print (f\" The second list is: {list3}\")\n",
    "print (f\" The third list is: {list4}\")\n"
   ]
  },
  {
   "cell_type": "markdown",
   "id": "81a1bb7a",
   "metadata": {},
   "source": [
    "### 15. Write a Python program to reverse a tuple."
   ]
  },
  {
   "cell_type": "code",
   "execution_count": 164,
   "id": "f55abb70",
   "metadata": {},
   "outputs": [
    {
     "name": "stdout",
     "output_type": "stream",
     "text": [
      "(6.8, 'Wessam', 8, [5, 6, 8])\n"
     ]
    }
   ],
   "source": [
    "# input tuple\n",
    "tpl = ([5,6,8], 8 , \"Wessam\" , 6.8)\n",
    "\n",
    "def ReverseTuple (tuple1):\n",
    "    # convert to list\n",
    "    lst = list(tuple1)    \n",
    "    lst.reverse()    \n",
    "    \n",
    "    return tuple(lst)\n",
    "\n",
    "# the main code\n",
    "tpl = ReverseTuple(tpl)\n",
    "print(tpl)"
   ]
  },
  {
   "cell_type": "markdown",
   "id": "98f073fb",
   "metadata": {},
   "source": [
    "### 16. Write a Python program to convert a list of tuples into a dictionary"
   ]
  },
  {
   "cell_type": "code",
   "execution_count": 179,
   "id": "5140d48a",
   "metadata": {},
   "outputs": [
    {
     "name": "stdout",
     "output_type": "stream",
     "text": [
      "{0: (5, 6, 7), 1: ('a', 'b', 'c'), 2: ('k', 6, 7)}\n"
     ]
    }
   ],
   "source": [
    "# input list of tuples \n",
    "list1 = [(5,6,7),(\"a\",'b','c'),('k',6,7)]\n",
    "\n",
    "# conversion code\n",
    "d = {}\n",
    "for x in range(0,len(list1)):\n",
    "    d[x] = list1[x]\n",
    "\n",
    "# print result\n",
    "print (d)\n",
    "    "
   ]
  },
  {
   "cell_type": "markdown",
   "id": "50e5e4d3",
   "metadata": {},
   "source": [
    "### 17. Write a Python program to replace the last value of tuples in a list.\n",
    "\n",
    "Sample list: [(10, 20, 40), (40, 50, 60), (70, 80, 90)]\n",
    "\n",
    "Expected Output: [(10, 20, 100), (40, 50, 100), (70, 80, 100)]\n"
   ]
  },
  {
   "cell_type": "code",
   "execution_count": 178,
   "id": "08d6e540",
   "metadata": {},
   "outputs": [
    {
     "name": "stdout",
     "output_type": "stream",
     "text": [
      "[(10, 20, 100), (40, 50, 100), (70, 80, 100)]\n"
     ]
    }
   ],
   "source": [
    "# input list\n",
    "lst = [(10, 20, 40), (40, 50, 60), (70, 80, 90)]\n",
    "lastValue = 100\n",
    "\n",
    "# replace code\n",
    "for i in range(0,len(lst)):\n",
    "    lstTemp = list(lst[i])\n",
    "    lstTemp[len(lstTemp)-1] = lastValue    \n",
    "    lst[i] = tuple(lstTemp)\n",
    "    \n",
    "# print the results   \n",
    "print (lst)"
   ]
  },
  {
   "cell_type": "markdown",
   "id": "6719b484",
   "metadata": {},
   "source": [
    "### 18. Write a Python program to sort a tuple by its float element"
   ]
  },
  {
   "cell_type": "code",
   "execution_count": 233,
   "id": "aecd120c",
   "metadata": {},
   "outputs": [
    {
     "name": "stdout",
     "output_type": "stream",
     "text": [
      "Float Elements Tuple Sort Program\n",
      "=================================\n",
      "Plese enter your tuple value\n",
      "True\n",
      "please enter element number 1: 4\n",
      "Would you like to add another element? (y/n): 4\n",
      "True\n",
      "please enter element number 2: 6.8\n",
      "Would you like to add another element? (y/n): 8\n",
      "True\n",
      "please enter element number 3: 5\n",
      "Would you like to add another element? (y/n): 3\n",
      "True\n",
      "please enter element number 4: 3.4\n",
      "Would you like to add another element? (y/n): 4\n",
      "True\n",
      "please enter element number 5: 5\n",
      "Would you like to add another element? (y/n): t\n",
      "True\n",
      "please enter element number 6: 20.5\n",
      "Would you like to add another element? (y/n): g\n",
      "True\n",
      "please enter element number 7: 15.9\n",
      "Would you like to add another element? (y/n): n\n",
      "\n",
      "Your tuple is: (4.0, 6.8, 5.0, 3.4, 5.0, 20.5, 15.9)\n",
      "\n",
      "Would you like to sort the tuple accending or deccending? (a/d): a\n",
      "(3.4, 4.0, 5.0, 5.0, 6.8, 15.9, 20.5)\n"
     ]
    }
   ],
   "source": [
    "# input tuple : float data type\n",
    "#tpl = (4.0,6.8,5.0,3.4,20.5,15.9)\n",
    "\n",
    "def inputFunction():\n",
    "    print(\"Float Elements Tuple Sort Program\")\n",
    "    print(\"=================================\")\n",
    "\n",
    "    print(\"Plese enter your tuple value\")\n",
    "\n",
    "    intTupleCounter = 0\n",
    "    tpl = tuple()\n",
    "    inputFlag = \"y\"\n",
    "    while (inputFlag != \"n\"):\n",
    "        print(inputFlag != \"n\")\n",
    "        intTupleCounter += 1\n",
    "        try:\n",
    "            tplTemp = (float(input(f\"please enter element number {intTupleCounter}: \")),)\n",
    "        except:\n",
    "            continue\n",
    "        finally:\n",
    "            tpl = tpl + tplTemp\n",
    "            inputFlag = input(\"Would you like to add another element? (y/n): \").strip().lower()\n",
    "\n",
    "    print(f\"\\nYour tuple is: {tpl}\")\n",
    "    strSortCondition = input(\"\\nWould you like to sort the tuple accending or deccending? (a/d): \")\n",
    "    if strSortCondition == \"a\":\n",
    "        blnSortCondition = True\n",
    "    else:\n",
    "        blnSortCondition = False\n",
    "    return tpl, blnSortCondition\n",
    "\n",
    "# Get Maximum value in a list\n",
    "def getMaximumValue(list1):\n",
    "    # Maximum value variable\n",
    "    maximum = list1[0]\n",
    "\n",
    "    # Calculate the largest\n",
    "    for x in list1:\n",
    "        if(maximum < x):\n",
    "            maximum = x\n",
    "    \n",
    "    return maximum\n",
    "\n",
    "# Get Minimum Value in a list\n",
    "def getMinimumValue(list1):\n",
    "    # minimum number variable \n",
    "    minimum = list1[0]\n",
    "\n",
    "    # get the minimum\n",
    "    for x in list1:\n",
    "        if(minimum > x):\n",
    "            minimum = x\n",
    "    \n",
    "    return minimum\n",
    " \n",
    "# sort function \n",
    "# parameters:\n",
    "#             accending: flag , true or false\n",
    "#             tpl: the tuple to sort\n",
    "\n",
    "def sortFunction(accending, tpl):\n",
    "    lstTemp = list(tpl)\n",
    "    lstSorted = [0 for x in range(len(tpl))]\n",
    "    for i in range(0,len(lstSorted)):\n",
    "        if(accending == True):\n",
    "            lstSorted[i] = getMinimumValue(lstTemp)\n",
    "        elif (accending == False):\n",
    "            lstSorted[i] = getMaximumValue(lstTemp)\n",
    "        lstTemp.remove(lstSorted[i])\n",
    "    \n",
    "    return tuple(lstSorted)\n",
    "    \n",
    "# run function\n",
    "def run():    \n",
    "    # get tuple from the user and sorting condition from the user\n",
    "    tpl, blnSortCondition = inputFunction()   \n",
    "    \n",
    "    # sort the tuple\n",
    "    tpl = sortFunction(blnSortCondition,tpl)\n",
    "    \n",
    "    # print the tuple\n",
    "    print(tpl)\n",
    "\n",
    "run()"
   ]
  }
 ],
 "metadata": {
  "kernelspec": {
   "display_name": "Python 3 (ipykernel)",
   "language": "python",
   "name": "python3"
  },
  "language_info": {
   "codemirror_mode": {
    "name": "ipython",
    "version": 3
   },
   "file_extension": ".py",
   "mimetype": "text/x-python",
   "name": "python",
   "nbconvert_exporter": "python",
   "pygments_lexer": "ipython3",
   "version": "3.10.9"
  }
 },
 "nbformat": 4,
 "nbformat_minor": 5
}
