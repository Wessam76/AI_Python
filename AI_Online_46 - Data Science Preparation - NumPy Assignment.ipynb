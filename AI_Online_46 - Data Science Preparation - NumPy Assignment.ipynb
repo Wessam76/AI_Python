{
 "cells": [
  {
   "cell_type": "markdown",
   "id": "bec78579",
   "metadata": {},
   "source": [
    "# Data Science Preparation \n",
    "## NumPy Assignment\n"
   ]
  },
  {
   "cell_type": "code",
   "execution_count": 6,
   "id": "a8b2ab12",
   "metadata": {},
   "outputs": [],
   "source": [
    "import numpy as np"
   ]
  },
  {
   "cell_type": "markdown",
   "id": "50d04ee4",
   "metadata": {},
   "source": [
    "### 1. Write a NumPy program to test whether none of the elements of a given array is zero."
   ]
  },
  {
   "cell_type": "code",
   "execution_count": 21,
   "id": "d526ffb4",
   "metadata": {},
   "outputs": [],
   "source": [
    "# input array\n",
    "mat1 = np.random.randint(-10, 11, (5, 5))\n",
    "mat2 = np.random.randint(1, 11, (5, 5))"
   ]
  },
  {
   "cell_type": "code",
   "execution_count": 22,
   "id": "b218d44a",
   "metadata": {},
   "outputs": [],
   "source": [
    "def IsNoneZeroElement(mat):\n",
    "    return np.all(mat!=0)"
   ]
  },
  {
   "cell_type": "code",
   "execution_count": 23,
   "id": "04dc850f",
   "metadata": {},
   "outputs": [
    {
     "name": "stdout",
     "output_type": "stream",
     "text": [
      "The first matrix is :\n",
      " [[  2  -6  -6   8 -10]\n",
      " [  0  -4  -3   7  -7]\n",
      " [  1  -9  -9   6  -3]\n",
      " [ 10   3   6   0   6]\n",
      " [ -8   4   1   7   2]]\n",
      "All Elements is none Zero ? False\n",
      "======================\n",
      "All Elements is none Zero ? :\n",
      " [[ 9  3  3 10  6]\n",
      " [ 5  9  3  7  2]\n",
      " [ 9  1  4  3  4]\n",
      " [ 3  1  6 10 10]\n",
      " [10 10  5  8  8]]\n",
      "Contains Zero ? True\n"
     ]
    }
   ],
   "source": [
    "print(f\"The first matrix is :\\n {mat1}\")\n",
    "print(f\"All Elements is none Zero ? {IsNoneZeroElement(mat1)}\")\n",
    "print(\"======================\")\n",
    "print(f\"All Elements is none Zero ? :\\n {mat2}\")\n",
    "print(f\"Contains Zero ? {IsNoneZeroElement(mat2)}\")"
   ]
  },
  {
   "cell_type": "markdown",
   "id": "5785716b",
   "metadata": {},
   "source": [
    "### 2. Write a NumPy program to test whether any of the elements of a given array is non-zero."
   ]
  },
  {
   "cell_type": "code",
   "execution_count": 29,
   "id": "ceb2cb24",
   "metadata": {},
   "outputs": [],
   "source": [
    "# input array\n",
    "mat1 = np.random.randint(-10, 11, (5, 5))\n",
    "mat2 = np.random.randint(1, 11, (5, 5))"
   ]
  },
  {
   "cell_type": "code",
   "execution_count": 30,
   "id": "adf77b49",
   "metadata": {},
   "outputs": [],
   "source": [
    "def IsAnyZeroElement(mat):\n",
    "    return np.any(mat==0)"
   ]
  },
  {
   "cell_type": "code",
   "execution_count": 31,
   "id": "b087dc97",
   "metadata": {},
   "outputs": [
    {
     "name": "stdout",
     "output_type": "stream",
     "text": [
      "The first matrix is :\n",
      " [[  1   3   8  -5  -4]\n",
      " [  1  -1  -6 -10   6]\n",
      " [ 10  -2   1   0  -7]\n",
      " [-10  -3   4   2   7]\n",
      " [  4   4  -7   3   0]]\n",
      "Any Elements is Zero ? True\n",
      "======================\n",
      "The first matrix is :\n",
      " [[ 1  6  5  7  9]\n",
      " [ 9  6  7  6  8]\n",
      " [10 10 10  8  6]\n",
      " [ 3  7  9  3  9]\n",
      " [ 8  8  2 10  8]]\n",
      "Any Elements is Zero ? False\n"
     ]
    }
   ],
   "source": [
    "print(f\"The first matrix is :\\n {mat1}\")\n",
    "print(f\"Any Elements is Zero ? {IsAnyZeroElement(mat1)}\")\n",
    "print(\"======================\")\n",
    "print(f\"The first matrix is :\\n {mat2}\")\n",
    "print(f\"Any Elements is Zero ? {IsAnyZeroElement(mat2)}\")"
   ]
  },
  {
   "cell_type": "markdown",
   "id": "324da6aa",
   "metadata": {},
   "source": [
    "### 3. Write a NumPy program to create an element-wise comparison (equal, equal within a tolerance) of two given "
   ]
  },
  {
   "cell_type": "code",
   "execution_count": 59,
   "id": "3cf96217",
   "metadata": {},
   "outputs": [],
   "source": [
    "# input\n",
    "lst1 = np.linspace(0, 3, num=20)\n",
    "lst2 = np.linspace(0, 4, num=20)\n",
    "tolerance =0.5"
   ]
  },
  {
   "cell_type": "code",
   "execution_count": 60,
   "id": "30d707ac",
   "metadata": {},
   "outputs": [
    {
     "name": "stdout",
     "output_type": "stream",
     "text": [
      "lst1 : [0.         0.15789474 0.31578947 0.47368421 0.63157895 0.78947368\n",
      " 0.94736842 1.10526316 1.26315789 1.42105263 1.57894737 1.73684211\n",
      " 1.89473684 2.05263158 2.21052632 2.36842105 2.52631579 2.68421053\n",
      " 2.84210526 3.        ]\n",
      "\n",
      "lst1 : [0.         0.15789474 0.31578947 0.47368421 0.63157895 0.78947368\n",
      " 0.94736842 1.10526316 1.26315789 1.42105263 1.57894737 1.73684211\n",
      " 1.89473684 2.05263158 2.21052632 2.36842105 2.52631579 2.68421053\n",
      " 2.84210526 3.        ]\n",
      "[ True False False False False False False False False False False False\n",
      " False False False False False False False False]\n",
      "\n",
      "[ True  True  True  True  True  True  True  True  True  True  True  True\n",
      "  True  True  True  True  True  True  True  True]\n"
     ]
    }
   ],
   "source": [
    "print(f\"lst1 : {lst1}\")\n",
    "print()\n",
    "print(f\"lst1 : {lst1}\")\n",
    "print(lst1 == lst2)\n",
    "print()\n",
    "print(np.isclose(lst1, lst2, tolerance))\n"
   ]
  },
  {
   "cell_type": "markdown",
   "id": "9147a72c",
   "metadata": {},
   "source": [
    "### 4. Write a NumPy program to create an array of 10 zeros,10 ones, 10 fives."
   ]
  },
  {
   "cell_type": "code",
   "execution_count": 66,
   "id": "ccb4d6b8",
   "metadata": {},
   "outputs": [
    {
     "name": "stdout",
     "output_type": "stream",
     "text": [
      "Zeros array\n",
      "[0. 0. 0. 0. 0. 0. 0. 0. 0. 0.]\n",
      "Ones array\n",
      "[1. 1. 1. 1. 1. 1. 1. 1. 1. 1.]\n",
      "fives array\n",
      "[5 5 5 5 5 5 5 5 5 5]\n"
     ]
    }
   ],
   "source": [
    "print(\"Zeros array\")\n",
    "print(np.zeros((10)))\n",
    "print(\"Ones array\")\n",
    "print(np.ones((10,)))\n",
    "print(\"fives array\")\n",
    "print(np.full((10,),5))"
   ]
  },
  {
   "cell_type": "markdown",
   "id": "fa0ea7be",
   "metadata": {},
   "source": [
    "### 5. Write a NumPy program to create an array of the integers from 30 to70."
   ]
  },
  {
   "cell_type": "code",
   "execution_count": 67,
   "id": "c0012d72",
   "metadata": {},
   "outputs": [
    {
     "data": {
      "text/plain": [
       "array([30, 31, 32, 33, 34, 35, 36, 37, 38, 39, 40, 41, 42, 43, 44, 45, 46,\n",
       "       47, 48, 49, 50, 51, 52, 53, 54, 55, 56, 57, 58, 59, 60, 61, 62, 63,\n",
       "       64, 65, 66, 67, 68, 69, 70])"
      ]
     },
     "execution_count": 67,
     "metadata": {},
     "output_type": "execute_result"
    }
   ],
   "source": [
    "np.arange(30,71)"
   ]
  },
  {
   "cell_type": "markdown",
   "id": "2a8f8050",
   "metadata": {},
   "source": [
    "### 6. Write a NumPy program to create a 3x3 identity matrix "
   ]
  },
  {
   "cell_type": "code",
   "execution_count": 71,
   "id": "ab06738c",
   "metadata": {},
   "outputs": [
    {
     "data": {
      "text/plain": [
       "array([[1., 0., 0.],\n",
       "       [0., 1., 0.],\n",
       "       [0., 0., 1.]])"
      ]
     },
     "execution_count": 71,
     "metadata": {},
     "output_type": "execute_result"
    }
   ],
   "source": [
    "np.identity(3)"
   ]
  },
  {
   "cell_type": "markdown",
   "id": "3f169d0a",
   "metadata": {},
   "source": [
    "### 7. Write a NumPy program to generate a random number between 0 and 1"
   ]
  },
  {
   "cell_type": "code",
   "execution_count": 74,
   "id": "39ca55b3",
   "metadata": {},
   "outputs": [
    {
     "data": {
      "text/plain": [
       "0.06166469985749745"
      ]
     },
     "execution_count": 74,
     "metadata": {},
     "output_type": "execute_result"
    }
   ],
   "source": [
    "np.random.rand()"
   ]
  },
  {
   "cell_type": "markdown",
   "id": "364d6921",
   "metadata": {},
   "source": [
    "### 8. Write a NumPy program to generate an array of 15 random numbers from a standard normal distribution"
   ]
  },
  {
   "cell_type": "code",
   "execution_count": 84,
   "id": "a2453d7c",
   "metadata": {},
   "outputs": [
    {
     "name": "stdout",
     "output_type": "stream",
     "text": [
      "[ 0.52206977  0.78150939  0.28741615  0.17709012  0.16469905  0.45436486\n",
      " -0.08389511 -1.5641167  -1.28048347  0.48274769 -0.68099793 -1.18278605\n",
      "  0.33984656  1.81277854 -0.7362505 ]\n"
     ]
    }
   ],
   "source": [
    "lst = np.random.randn(15)\n",
    "print(lst)"
   ]
  },
  {
   "cell_type": "code",
   "execution_count": 85,
   "id": "a32fc165",
   "metadata": {},
   "outputs": [
    {
     "name": "stdout",
     "output_type": "stream",
     "text": [
      " list mean:  -0.03373384271288143\n",
      " list standard deviation: 0.869729328279845\n",
      " -2 * std: -1.73945865655969 and 2 * std: 1.73945865655969\n"
     ]
    }
   ],
   "source": [
    "print(f\" list mean:  {lst.mean()}\")\n",
    "print(f\" list standard deviation: {lst.std()}\")\n",
    "print(f\" -2 * std: {-2*lst.std()} and 2 * std: {2*lst.std()}\")"
   ]
  },
  {
   "cell_type": "markdown",
   "id": "b83e3100",
   "metadata": {},
   "source": [
    "### 9. Write a NumPy program to create a vector with values ranging from 15 to 55 and print all values except the first and last."
   ]
  },
  {
   "cell_type": "code",
   "execution_count": 87,
   "id": "c030d1e9",
   "metadata": {},
   "outputs": [
    {
     "name": "stdout",
     "output_type": "stream",
     "text": [
      "[16 17 18 19 20 21 22 23 24 25 26 27 28 29 30 31 32 33 34 35 36 37 38 39\n",
      " 40 41 42 43 44 45 46 47 48 49 50 51 52 53 54]\n"
     ]
    }
   ],
   "source": [
    "vector = np.arange(15,56)\n",
    "print(vector[1:-1])"
   ]
  },
  {
   "cell_type": "markdown",
   "id": "81c14757",
   "metadata": {},
   "source": [
    "### 10. Write a NumPy program to create a vector of length 5 filled with arbitrary integers from 0 to 10"
   ]
  },
  {
   "cell_type": "code",
   "execution_count": 88,
   "id": "c1516074",
   "metadata": {},
   "outputs": [
    {
     "data": {
      "text/plain": [
       "array([5, 2, 8, 8, 0])"
      ]
     },
     "execution_count": 88,
     "metadata": {},
     "output_type": "execute_result"
    }
   ],
   "source": [
    "np.random.randint(0, 10, (5,))"
   ]
  },
  {
   "cell_type": "markdown",
   "id": "72d25917",
   "metadata": {},
   "source": [
    "### 11. Write a NumPy program to create a 10x10 matrix, in which the elements on the borders will be equal to 1, and inside 0."
   ]
  },
  {
   "cell_type": "code",
   "execution_count": 97,
   "id": "7e9fcaca",
   "metadata": {},
   "outputs": [
    {
     "name": "stdout",
     "output_type": "stream",
     "text": [
      "one matrix is:\n",
      " [[1 1 1 1 1 1 1 1 1 1]\n",
      " [1 1 1 1 1 1 1 1 1 1]\n",
      " [1 1 1 1 1 1 1 1 1 1]\n",
      " [1 1 1 1 1 1 1 1 1 1]\n",
      " [1 1 1 1 1 1 1 1 1 1]\n",
      " [1 1 1 1 1 1 1 1 1 1]\n",
      " [1 1 1 1 1 1 1 1 1 1]\n",
      " [1 1 1 1 1 1 1 1 1 1]\n",
      " [1 1 1 1 1 1 1 1 1 1]\n",
      " [1 1 1 1 1 1 1 1 1 1]]\n",
      "final matrix is:\n",
      " [[1 1 1 1 1 1 1 1 1 1]\n",
      " [1 0 0 0 0 0 0 0 0 1]\n",
      " [1 0 0 0 0 0 0 0 0 1]\n",
      " [1 0 0 0 0 0 0 0 0 1]\n",
      " [1 0 0 0 0 0 0 0 0 1]\n",
      " [1 0 0 0 0 0 0 0 0 1]\n",
      " [1 0 0 0 0 0 0 0 0 1]\n",
      " [1 0 0 0 0 0 0 0 0 1]\n",
      " [1 0 0 0 0 0 0 0 0 1]\n",
      " [1 1 1 1 1 1 1 1 1 1]]\n"
     ]
    }
   ],
   "source": [
    "# create 10x10 ones matrix\n",
    "mat = np.ones((10,10),np.int8)\n",
    "print(f\"one matrix is:\\n {mat}\")\n",
    "# setting all elements except borders by 0\n",
    "mat[1:-1,1:-1] = 0\n",
    "print(f\"final matrix is:\\n {mat}\")"
   ]
  },
  {
   "cell_type": "markdown",
   "id": "334b2842",
   "metadata": {},
   "source": [
    "### 12. Write a NumPy program to create a 5x5 zero matrix with elements on the main diagonal equal to 1, 2, 3, 4, 5.\n"
   ]
  },
  {
   "cell_type": "code",
   "execution_count": 104,
   "id": "9270076f",
   "metadata": {},
   "outputs": [
    {
     "name": "stdout",
     "output_type": "stream",
     "text": [
      "the matrix diagonal is: [1 2 3 4 5]\n",
      "the diagonal matrix is:\n",
      "[[1 0 0 0 0]\n",
      " [0 2 0 0 0]\n",
      " [0 0 3 0 0]\n",
      " [0 0 0 4 0]\n",
      " [0 0 0 0 5]]\n"
     ]
    }
   ],
   "source": [
    "# create matrix diagonal\n",
    "diag = np.arange(1,6)\n",
    "print(f\"the matrix diagonal is: {diag}\")\n",
    "\n",
    "# create the 5x5 matrix\n",
    "dMat = np.diag(diag)\n",
    "print(f\"the diagonal matrix is:\\n{dMat}\")"
   ]
  },
  {
   "cell_type": "markdown",
   "id": "e6e7f32e",
   "metadata": {},
   "source": [
    "### 13. Write a NumPy program to create a 4x4 matrix in which 0 and 1 are staggered, with zeros on the main diagonal.\n"
   ]
  },
  {
   "cell_type": "code",
   "execution_count": 121,
   "id": "6e27f2cb",
   "metadata": {},
   "outputs": [
    {
     "name": "stdout",
     "output_type": "stream",
     "text": [
      "step1(ones matrix):\n",
      "[[1. 1. 1. 1.]\n",
      " [1. 1. 1. 1.]\n",
      " [1. 1. 1. 1.]\n",
      " [1. 1. 1. 1.]]\n",
      "step2(staggered matrix):\n",
      "[[0. 1. 0. 1.]\n",
      " [1. 1. 1. 1.]\n",
      " [0. 1. 0. 1.]\n",
      " [1. 1. 1. 1.]]\n",
      "step3:\n",
      "step3-1: the diagonal: [1. 1. 1. 1.]\n",
      "step3-2: the diagonal:\n",
      "[[1. 0. 0. 0.]\n",
      " [0. 1. 0. 0.]\n",
      " [0. 0. 1. 0.]\n",
      " [0. 0. 0. 1.]]\n",
      "step3-3: Final matrix:\n",
      "[[0. 1. 0. 1.]\n",
      " [1. 0. 1. 1.]\n",
      " [0. 1. 0. 1.]\n",
      " [1. 1. 1. 0.]]\n"
     ]
    }
   ],
   "source": [
    "# Assumption: the staggered matrix will start by 0 in the upper left corner (element[0,0])\n",
    "\n",
    "# step1: create 4x4 ones matrix\n",
    "mat = np.ones((4,4))\n",
    "print(f\"step1(ones matrix):\\n{mat}\")\n",
    "\n",
    "# step2: assining staggered zeros using step = 2 \n",
    "mat[::2,::2] = 0\n",
    "print(f\"step2(staggered matrix):\\n{mat}\")\n",
    "\n",
    "# step3: changing diagonal to zeros based in where comparison of 2 matrices \n",
    "# create diagonal matrix to be used as a condition\n",
    "diag = np.ones((mat.shape[0],))\n",
    "print(\"step3:\")\n",
    "print(f\"step3-1: the diagonal: {diag}\")\n",
    "dMat = np.diag(diag)\n",
    "print(f\"step3-2: the diagonal:\\n{dMat}\")\n",
    "mat = np.where(dMat == 1, 0, mat)\n",
    "print(f\"step3-3: Final matrix:\\n{mat}\")\n"
   ]
  },
  {
   "cell_type": "markdown",
   "id": "283041ff",
   "metadata": {},
   "source": [
    "### 14. Write a NumPy program to save two given arrays into a single file in compressed format (.npz format) and load it.\n"
   ]
  },
  {
   "cell_type": "code",
   "execution_count": 125,
   "id": "b9ce775a",
   "metadata": {},
   "outputs": [],
   "source": [
    "mat1 = np.full((4,4),5)\n",
    "mat2 = np.full((4,4),3)\n",
    "# save the matrices\n",
    "np.savez('d:\\\\file.npz', Mat_1=mat1, Mat_2=mat2)"
   ]
  },
  {
   "cell_type": "code",
   "execution_count": 126,
   "id": "9497e0b1",
   "metadata": {},
   "outputs": [
    {
     "name": "stdout",
     "output_type": "stream",
     "text": [
      "[[5 5 5 5]\n",
      " [5 5 5 5]\n",
      " [5 5 5 5]\n",
      " [5 5 5 5]]\n",
      "-------\n",
      "[[3 3 3 3]\n",
      " [3 3 3 3]\n",
      " [3 3 3 3]\n",
      " [3 3 3 3]]\n"
     ]
    }
   ],
   "source": [
    "#Load both matrices\n",
    "with np.load('d:\\\\file.npz') as file:\n",
    "    Mat1 = file['Mat_1']\n",
    "    Mat2 = file['Mat_2']\n",
    "    print(Mat1)\n",
    "    print(\"-------\")\n",
    "    print(Mat2)"
   ]
  },
  {
   "cell_type": "markdown",
   "id": "ed3a5385",
   "metadata": {},
   "source": [
    "### 16. Write a NumPy program to extract all numbers from a given array which are less and greater than a specified number"
   ]
  },
  {
   "cell_type": "code",
   "execution_count": 127,
   "id": "46720386",
   "metadata": {},
   "outputs": [
    {
     "name": "stdout",
     "output_type": "stream",
     "text": [
      "[[12 12 10  0 12]\n",
      " [ 2 13  9  7  5]\n",
      " [19  9  3  7 19]\n",
      " [ 4  5  3  5  6]\n",
      " [ 8 16  1 13 12]]\n"
     ]
    }
   ],
   "source": [
    "#create\n",
    "arr = np.random.randint(0,20,(5,5))\n",
    "print(arr)"
   ]
  },
  {
   "cell_type": "code",
   "execution_count": 130,
   "id": "48c67f55",
   "metadata": {},
   "outputs": [
    {
     "data": {
      "text/plain": [
       "array([12, 12, 12, 13, 19, 19, 16, 13, 12])"
      ]
     },
     "execution_count": 130,
     "metadata": {},
     "output_type": "execute_result"
    }
   ],
   "source": [
    "#values greater than 10\n",
    "arr[arr > 10]"
   ]
  }
 ],
 "metadata": {
  "kernelspec": {
   "display_name": "Python 3 (ipykernel)",
   "language": "python",
   "name": "python3"
  },
  "language_info": {
   "codemirror_mode": {
    "name": "ipython",
    "version": 3
   },
   "file_extension": ".py",
   "mimetype": "text/x-python",
   "name": "python",
   "nbconvert_exporter": "python",
   "pygments_lexer": "ipython3",
   "version": "3.10.9"
  }
 },
 "nbformat": 4,
 "nbformat_minor": 5
}
