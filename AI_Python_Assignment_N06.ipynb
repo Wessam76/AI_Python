{
 "cells": [
  {
   "cell_type": "markdown",
   "id": "8dfc56fd",
   "metadata": {},
   "source": [
    "# Machine Learning Diploma\n",
    "## Python\n",
    "### Session 4: Assignments 3"
   ]
  },
  {
   "cell_type": "markdown",
   "id": "e7429831",
   "metadata": {},
   "source": [
    "### 2. Write a Python program to find all the unique words and count the frequency of occurrence from a given list of strings."
   ]
  },
  {
   "cell_type": "code",
   "execution_count": 92,
   "id": "e77bd28a",
   "metadata": {
    "scrolled": true
   },
   "outputs": [
    {
     "name": "stdout",
     "output_type": "stream",
     "text": [
      "{}\n",
      "{'Implement': 1, 'Fibonacci': 1, 'series': 1, 'using': 1, 'recursion': 1, 'Write': 3, 'a': 7, 'Python': 3, 'program': 3, 'to': 3, 'find': 2, 'all': 3, 'the': 4, 'unique': 1, 'words': 1, 'and': 1, 'count': 1, 'frequency': 1, 'of': 4, 'occurrence': 1, 'from': 1, 'given': 3, 'list': 3, 'strings': 1, 'that': 1, 'finds': 1, 'pairs': 2, 'elements': 1, 'in': 2, 'whose': 2, 'sum': 1, 'is': 2, 'equal': 1, 'value': 1, 'two': 1, 'numbers': 2, 'product': 1, 'maximum': 1, 'among': 1}\n"
     ]
    }
   ],
   "source": [
    "#input list\n",
    "lst = [\"Implement Fibonacci series using recursion\",\n",
    "       \"Write a Python program to find all the unique words and count the frequency of occurrence from a given list of strings\",\n",
    "       \"Write a Python program that finds all pairs of elements in a list whose sum is equal to a given value\",\n",
    "       \"Write a Python program to find the two numbers whose product is maximum among all the pairs in a given list of numbers\"\n",
    "      ]\n",
    "wordsDictionary = {}\n",
    "print (wordsDictionary)\n",
    "for x in lst:\n",
    "    lstSplit = x.split()\n",
    "    #print(lstSplit)\n",
    "    for y in lstSplit:\n",
    "        #print(y)\n",
    "        #print(y not in wordsDictionary)\n",
    "        if(y not in wordsDictionary):\n",
    "            wordsDictionary.update({y:1})\n",
    "        else:\n",
    "            wordsDictionary[y] = wordsDictionary[y] + 1  \n",
    "            #print(wordsDictionary)\n",
    "\n",
    "print(wordsDictionary)"
   ]
  },
  {
   "cell_type": "markdown",
   "id": "12d344a2",
   "metadata": {},
   "source": [
    "### 3. Write a Python program that finds all pairs of elements in a list whose sum is equal to a given value.\n"
   ]
  },
  {
   "cell_type": "code",
   "execution_count": 25,
   "id": "eb5c22a3",
   "metadata": {},
   "outputs": [
    {
     "name": "stdout",
     "output_type": "stream",
     "text": [
      "[(0, 5), (4, 1), (3, 2), (3, 2)]\n"
     ]
    }
   ],
   "source": [
    "# input list\n",
    "lst = [0,4,3,2,5,1,2,6,7]\n",
    "\n",
    "# input value to find its some in the list\n",
    "givenValue = 5\n",
    "\n",
    "# list of pairs (tuples) where thier sum is equal to the given value\n",
    "lstPairs = []\n",
    "\n",
    "# check the condition\n",
    "for i in range(0,len(lst)-2):\n",
    "    for j in range (i,len(lst)-1):\n",
    "        #print(f\"i : {i}, lst[i]: {lst[i]}, j: {j}, lst[j]: {lst[j]}\")\n",
    "        if (lst[i] + lst[j+1]) == givenValue:\n",
    "            tplTemp = (lst[i],lst[j+1])\n",
    "            #print(tplTemp)\n",
    "            lstPairs.append(tuple(tplTemp))\n",
    "\n",
    "# print final result\n",
    "print(lstPairs)\n",
    "        \n"
   ]
  },
  {
   "cell_type": "markdown",
   "id": "1b3a461c",
   "metadata": {},
   "source": [
    "### 4. Write a Python program to find the two numbers whose product is maximum among all the pairs in a given list of numbers"
   ]
  },
  {
   "cell_type": "code",
   "execution_count": 32,
   "id": "6edfc3fa",
   "metadata": {},
   "outputs": [
    {
     "name": "stdout",
     "output_type": "stream",
     "text": [
      "(6, 7)\n"
     ]
    }
   ],
   "source": [
    "# input list\n",
    "lst = [0,4,3,2,5,1,2,6,7]\n",
    "\n",
    "#  tuple to store the pair \n",
    "tpl = (0,0)\n",
    "\n",
    "\n",
    "for i in range(0,len(lst)-1):    \n",
    "    for j in range (i,len(lst)-1):\n",
    "        currentValue = tpl[0] * tpl[1]\n",
    "        newValue = lst[i]* lst[j+1]\n",
    "        #print(f\"i:{i},j+1:{j+1}, current value: {currentValue}, new value: {newValue}\")\n",
    "        if(newValue > currentValue):\n",
    "            tpl = (lst[i],lst[j+1])\n",
    "\n",
    "print (tpl)\n",
    "    \n",
    "        "
   ]
  },
  {
   "cell_type": "markdown",
   "id": "3042d17c",
   "metadata": {},
   "source": [
    "### 5. Write a Python function that takes a number as a parameter and checks whether the number is prime or not."
   ]
  },
  {
   "cell_type": "code",
   "execution_count": 51,
   "id": "9c0fa415",
   "metadata": {},
   "outputs": [
    {
     "name": "stdout",
     "output_type": "stream",
     "text": [
      "Prime Number Function Program\n",
      "=============================\n",
      "\n",
      "\n",
      "Enter an integer number: 25\n",
      "the number 25 is not a prime number\n",
      "press 0 to exit or any value otherwise: 4\n",
      "Enter an integer number: 2739\n",
      "the number 2739 is not a prime number\n",
      "press 0 to exit or any value otherwise: 0\n"
     ]
    }
   ],
   "source": [
    "# prime number must be positive number\n",
    "# prime number must be odd number except 2\n",
    "# prime number unit digit is not equal to 0 or five \n",
    "# prime number digits summation cannot be divided by three\n",
    "# prime number can be expresed as 6 * n + 1 or 6 * n -1\n",
    "\n",
    "def isPrime (number):\n",
    "    Prime = False\n",
    "    if(number < 2):\n",
    "        blnPrime = False\n",
    "    elif(number == 2 or number == 3 or number == 5):\n",
    "        blnPrime = True\n",
    "    elif(number%2 == 0):\n",
    "        blnPrime = False\n",
    "    elif(number%5== 0):\n",
    "        blnPrime = False    \n",
    "    elif(number-1)%6 == 0:\n",
    "        blnPrime = True\n",
    "    elif(number+1)%6 == 0:\n",
    "        blnPrime = True\n",
    "    else:\n",
    "        blnPrime = False\n",
    "    \n",
    "    return blnPrime\n",
    "\n",
    "\n",
    "\n",
    "print(\"Prime Number Function Program\")\n",
    "print(\"=============================\")\n",
    "print(\"\\n\")\n",
    "loopCondiction = '1'\n",
    "while loopCondiction != '0':\n",
    "    number = int(input(\"Enter an integer number: \"))\n",
    "    blnPrime = isPrime(number)\n",
    "    if (blnPrime == True):\n",
    "        print(f\"The number {number} is a prime number\")\n",
    "    else:\n",
    "        print(f\"the number {number} is not a prime number\")\n",
    "    loopCondiction = input(\"press 0 to exit or any value otherwise: \")\n",
    "        \n",
    "\n",
    "\n"
   ]
  },
  {
   "cell_type": "markdown",
   "id": "25790c7b",
   "metadata": {},
   "source": [
    "### 7. Write a function that will take a given string and reverse the order of words.\n",
    "### Ex:\n",
    "### “Hello world” →”world Hello”"
   ]
  },
  {
   "cell_type": "code",
   "execution_count": 55,
   "id": "fc118d33",
   "metadata": {},
   "outputs": [
    {
     "name": "stdout",
     "output_type": "stream",
     "text": [
      "Please Enter any string: Wessam\n",
      "The reversed string is: masseW\n"
     ]
    }
   ],
   "source": [
    "# string reverse function\n",
    "def stringReverse(string):\n",
    "    return string[-1::-1]\n",
    "    \n",
    "# input string\n",
    "string = input(\"Please Enter any string: \")\n",
    "strReverse = stringReverse(string)\n",
    "print (f\"The reversed string is: {strReverse}\")\n",
    "\n"
   ]
  },
  {
   "cell_type": "markdown",
   "id": "6c1b19ac",
   "metadata": {},
   "source": [
    "### 8. Given an integer x, return true if x is a palindrome, and false otherwise.\n",
    "    Example 1:\n",
    "    Input: x = 121\n",
    "    Output: true\n",
    "    Explanation: 121 reads as 121 from left to right and from right to left.\n",
    "    Example 2:\n",
    "    Input: x = -121\n",
    "    Output: false\n",
    "    Explanation: From left to right, it reads -121. From right to left, it becomes 121-. Therefore, it is not a palindrome.\n",
    "    Example 3:\n",
    "    Input: x = 10\n",
    "    Output: false\n",
    "    Explanation: Reads 01 from right to left. Therefore, it is not a palindrome.\n"
   ]
  },
  {
   "cell_type": "code",
   "execution_count": 64,
   "id": "28304574",
   "metadata": {},
   "outputs": [
    {
     "name": "stdout",
     "output_type": "stream",
     "text": [
      "Enter an Integer Number: 545\n",
      "True\n",
      "press 0 to exit or any number otherwise: 1\n",
      "Enter an Integer Number: -121\n",
      "False\n",
      "press 0 to exit or any number otherwise: 0\n"
     ]
    }
   ],
   "source": [
    "# user input \n",
    "loopCond= '1'\n",
    "while loopCond != '0':\n",
    "    try:\n",
    "        number = int(input(\"Enter an Integer Number: \"))\n",
    "        strNumber = str(number)\n",
    "        #print(strNumber)\n",
    "        strNumberReverse = strNumber[-1::-1]\n",
    "        #print(strNumberReverse)\n",
    "        if(strNumber == strNumberReverse):\n",
    "            print(\"True\")\n",
    "        else:\n",
    "            print(\"False\")\n",
    "    except:\n",
    "        loopCond = '1'\n",
    "    finally:\n",
    "        loopCond = input(\"press 0 to exit or any number otherwise: \")\n",
    "        \n"
   ]
  },
  {
   "cell_type": "markdown",
   "id": "d1215f1e",
   "metadata": {},
   "source": [
    "### 10.Write a Python function to create and print a list where the values are the squares of numbers between 1 and 30 (both included)."
   ]
  },
  {
   "cell_type": "code",
   "execution_count": 66,
   "id": "23bf2a26",
   "metadata": {},
   "outputs": [
    {
     "name": "stdout",
     "output_type": "stream",
     "text": [
      "[1, 4, 9, 16, 25, 36, 49, 64, 81, 100, 121, 144, 169, 196, 225, 256, 289, 324, 361, 400, 441, 484, 529, 576, 625, 676, 729, 784, 841, 900]\n"
     ]
    }
   ],
   "source": [
    "def sequenceList():\n",
    "    return [x**2 for x in range(1,31)]\n",
    "\n",
    "print (sequenceList())"
   ]
  },
  {
   "cell_type": "code",
   "execution_count": 69,
   "id": "27916c29",
   "metadata": {},
   "outputs": [
    {
     "name": "stdout",
     "output_type": "stream",
     "text": [
      "Help on method_descriptor:\n",
      "\n",
      "split(self, /, sep=None, maxsplit=-1)\n",
      "    Return a list of the substrings in the string, using sep as the separator string.\n",
      "    \n",
      "      sep\n",
      "        The separator used to split the string.\n",
      "    \n",
      "        When set to None (the default value), will split on any whitespace\n",
      "        character (including \\\\n \\\\r \\\\t \\\\f and spaces) and will discard\n",
      "        empty strings from the result.\n",
      "      maxsplit\n",
      "        Maximum number of splits (starting from the left).\n",
      "        -1 (the default value) means no limit.\n",
      "    \n",
      "    Note, str.split() is mainly useful for data that has been intentionally\n",
      "    delimited.  With natural text that includes punctuation, consider using\n",
      "    the regular expression module.\n",
      "\n"
     ]
    }
   ],
   "source": [
    "help(str.split)"
   ]
  },
  {
   "cell_type": "code",
   "execution_count": null,
   "id": "c1ac64a7",
   "metadata": {},
   "outputs": [],
   "source": []
  }
 ],
 "metadata": {
  "kernelspec": {
   "display_name": "Python 3 (ipykernel)",
   "language": "python",
   "name": "python3"
  },
  "language_info": {
   "codemirror_mode": {
    "name": "ipython",
    "version": 3
   },
   "file_extension": ".py",
   "mimetype": "text/x-python",
   "name": "python",
   "nbconvert_exporter": "python",
   "pygments_lexer": "ipython3",
   "version": "3.10.9"
  }
 },
 "nbformat": 4,
 "nbformat_minor": 5
}
