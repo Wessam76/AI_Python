{
 "cells": [
  {
   "cell_type": "markdown",
   "id": "2d601df3",
   "metadata": {},
   "source": [
    "# AI Online 46\n",
    "## Python - Workshop"
   ]
  },
  {
   "cell_type": "markdown",
   "id": "69ffec2a",
   "metadata": {},
   "source": [
    "### Task 9.\n",
    "Implement a basic chatbot that can respond to user input with predefined responses"
   ]
  },
  {
   "cell_type": "code",
   "execution_count": 35,
   "id": "c707d1f4",
   "metadata": {},
   "outputs": [
    {
     "name": "stdout",
     "output_type": "stream",
     "text": [
      "** Welcome to chatbot **\n",
      "========================\n",
      "kindly input your Request (or enter 0 to exit): Need\n",
      "How can i help you\n",
      "kindly input your Request (or enter 0 to exit): hi\n",
      "Hello\n",
      "kindly input your Request (or enter 0 to exit): 0\n"
     ]
    }
   ],
   "source": [
    "# response dictionary\n",
    "response = {'Hello' : ['hi','hello','good morining','good eveninig']\n",
    "           , 'How can i help you': ['need','can','do','could']}\n",
    "\n",
    "print(\"** Welcome to chatbot **\")\n",
    "print(\"========================\")\n",
    "\n",
    "x = '1'\n",
    "while (x != '0'):\n",
    "    x = input(\"kindly input your Request (or enter 0 to exit): \").lower()\n",
    "    for request in response:        \n",
    "        if(x in response[request]):\n",
    "            print(request)\n"
   ]
  },
  {
   "cell_type": "markdown",
   "id": "fe490732",
   "metadata": {},
   "source": [
    "### Task 10\n",
    "\n",
    "1. Write a Rectangle class in Python language, allowing you to build a rectangle with length and width attributes.\n",
    "2. Create a Perimeter() method to calculate the perimeter of the rectangle and a Area() method to calculate the area of the rectangle.\n",
    "3. Create a method display() that display the length, width, perimeter and area of an object created using an instantiation on rectangle class.\n",
    "4. Create a Parallelepipede child class inheriting from the Rectangle class and with a height attribute and another Volume() method to calculate the volume of the Parallelepiped."
   ]
  },
  {
   "cell_type": "code",
   "execution_count": 21,
   "id": "3c5e30c6",
   "metadata": {},
   "outputs": [],
   "source": [
    "# Rectangle Class Definition\n",
    "class Rectangle:\n",
    "    # Class members (attributes)\n",
    "    _width = 0.0 # float\n",
    "    _length = 0.0 # float\n",
    "    \n",
    "    # class member setters and getters    \n",
    "    def setLength(self, length):\n",
    "        self._length = float(length)\n",
    "    def getLength(self):\n",
    "        return self._length\n",
    "    \n",
    "    def setWidth(self, width):\n",
    "        self._width = float(width)\n",
    "    def getWidth(self):\n",
    "        return self._width\n",
    "        \n",
    "    # class methods\n",
    "    \n",
    "    # class constructor\n",
    "    def __init__(self, length, width):\n",
    "        self.setLength(length)\n",
    "        self.setWidth(width)\n",
    "    \n",
    "    # Perimeter method    \n",
    "    def Perimeter(self):\n",
    "        return 2 * (self.getLength() + self.getWidth())\n",
    "    \n",
    "    # Area method\n",
    "    def Area(self): \n",
    "        return self.getLength() * self.getWidth()\n",
    "    \n",
    "    # Display method\n",
    "    def Display(self):\n",
    "        print(f\"The Properties is:\\nLength = {self.getLength()}\\nWidth = {self.getWidth()}\\nPerimeter = {self.Perimeter()}\\nArea = {self.Area()}\")\n",
    "    "
   ]
  },
  {
   "cell_type": "code",
   "execution_count": 22,
   "id": "3a9cc920",
   "metadata": {},
   "outputs": [
    {
     "name": "stdout",
     "output_type": "stream",
     "text": [
      "The Properties is:\n",
      "Length = 5.0\n",
      "Width = 3.0\n",
      "Perimeter = 16.0\n",
      "Area = 15.0\n"
     ]
    }
   ],
   "source": [
    "# Testing Rectangle class\n",
    "r1 = Rectangle(5,3)\n",
    "r1.Display()"
   ]
  },
  {
   "cell_type": "code",
   "execution_count": 23,
   "id": "2cbfa37b",
   "metadata": {},
   "outputs": [],
   "source": [
    "# Parallelpiped Class\n",
    "class Parallelpiped(Rectangle):\n",
    "    # Class members\n",
    "    _height = 0,0\n",
    "    \n",
    "    # Class setters and getters\n",
    "    def setHeight(self,height):\n",
    "        self._height = height\n",
    "    def getHeight(self):\n",
    "        return self._height\n",
    "    \n",
    "    # class methods\n",
    "    # constructor\n",
    "    def __init__(self, length,width,height):\n",
    "        super().__init__(length,width)\n",
    "        self.setHeight(height)\n",
    "        \n",
    "    def Volume(self):\n",
    "        return super().Area() * self.getHeight()\n",
    "    \n",
    "    def Display(self):\n",
    "        super().Display()\n",
    "        print(f\"Height = {self.getHeight()}\\nVolume = {self.Volume()}\")"
   ]
  },
  {
   "cell_type": "code",
   "execution_count": 24,
   "id": "41c991be",
   "metadata": {},
   "outputs": [
    {
     "name": "stdout",
     "output_type": "stream",
     "text": [
      "The Properties is:\n",
      "Length = 5.0\n",
      "Width = 3.0\n",
      "Perimeter = 16.0\n",
      "Area = 15.0\n",
      "Height = 2\n",
      "Volume = 30.0\n"
     ]
    }
   ],
   "source": [
    "# Test Parallelpiped Class\n",
    "p = Parallelpiped(5,3,2)\n",
    "p.Display()"
   ]
  },
  {
   "cell_type": "code",
   "execution_count": null,
   "id": "d620944c",
   "metadata": {},
   "outputs": [],
   "source": []
  }
 ],
 "metadata": {
  "kernelspec": {
   "display_name": "Python 3 (ipykernel)",
   "language": "python",
   "name": "python3"
  },
  "language_info": {
   "codemirror_mode": {
    "name": "ipython",
    "version": 3
   },
   "file_extension": ".py",
   "mimetype": "text/x-python",
   "name": "python",
   "nbconvert_exporter": "python",
   "pygments_lexer": "ipython3",
   "version": "3.10.9"
  }
 },
 "nbformat": 4,
 "nbformat_minor": 5
}
